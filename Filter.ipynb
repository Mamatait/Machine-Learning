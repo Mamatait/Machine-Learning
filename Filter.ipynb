{
 "cells": [
  {
   "cell_type": "code",
   "execution_count": 105,
   "metadata": {},
   "outputs": [
    {
     "name": "stdout",
     "output_type": "stream",
     "text": [
      "Hello\n"
     ]
    }
   ],
   "source": [
    "str1='          Hello                    '\n",
    "space=[' ']\n",
    "str1=''.join((filter(lambda i:i not in space,str1))) \n",
    "print(str1)\n",
    "#str1=filter(lambda i:i not in space,str1)\n",
    "#print(list(str1))"
   ]
  },
  {
   "cell_type": "code",
   "execution_count": 6,
   "metadata": {},
   "outputs": [
    {
     "name": "stdout",
     "output_type": "stream",
     "text": [
      "[14, 16, 24, 42]\n"
     ]
    }
   ],
   "source": [
    "list1=[1,12,14,13,16,17,19,22,24,26,87,88,89,99,123,45,42,47]\n",
    "\n",
    "\n",
    "\n",
    "list2=[item for item in filter(lambda list1:list1%2 == 0,list1[::2])]\n",
    "print(list2)"
   ]
  },
  {
   "cell_type": "code",
   "execution_count": 118,
   "metadata": {},
   "outputs": [
    {
     "name": "stdout",
     "output_type": "stream",
     "text": [
      "6\n"
     ]
    }
   ],
   "source": [
    "str1=\"my name is navya hi hello\"\n",
    "word=1\n",
    "for char in range(len(str1)):\n",
    "    if(str1[char]==\" \" or str1[char]==\"\\n\" or str1[char]==\"\\t\"):\n",
    "        word=word+1  \n",
    "print(word)\n",
    "\n",
    "str1=\"my name  is navya hi hello\" \n"
   ]
  },
  {
   "cell_type": "code",
   "execution_count": 119,
   "metadata": {},
   "outputs": [
    {
     "name": "stdout",
     "output_type": "stream",
     "text": [
      "45\n"
     ]
    }
   ],
   "source": [
    "#reduce() returned_value = reduce(function, iterable)\n",
    "from functools import reduce\n",
    "def sumTwo(a,b):\n",
    "    return a+b\n",
    "\n",
    "result = reduce(sumTwo, [1, 2, 3, 4,5,6,7,8,9])\n",
    "print(result)"
   ]
  },
  {
   "cell_type": "code",
   "execution_count": 123,
   "metadata": {},
   "outputs": [
    {
     "name": "stdout",
     "output_type": "stream",
     "text": [
      "[('Mamatha', 'Ramanaujam', 1000), ('Reshma', 'R', 2000), ('Ananad', 'Deepak', 3000), ('Deepika', 'A', 4000), ('Kowsik', 'Sundar', 5000)]\n"
     ]
    }
   ],
   "source": [
    "#zip\n",
    "firstname=[\"Mamatha\", \"Reshma\" , \"Ananad\" , \"Deepika\" , \"Kowsik\"]\n",
    "lastname=[\"Ramanaujam\", \"R\" , \"Deepak\" , \"A\", \"Sundar\"]\n",
    "salary=[1000,2000,3000,4000,5000]\n",
    "zipped=zip(firstname,lastname,salary)\n",
    "print(list(zipped))\n",
    "#for fn,ln,sal in zipped:\n",
    "  #print(f\"{fn} {ln} Salary is {sal}\")"
   ]
  },
  {
   "cell_type": "code",
   "execution_count": 103,
   "metadata": {},
   "outputs": [
    {
     "name": "stdout",
     "output_type": "stream",
     "text": [
      "[('Mamatha', 'Ramanaujam', 1000), ('Reshma', 'R', 2000), ('Ananad', 'Deepak', 3000), ('Deepika', 'A', 4000), ('Kowsik', 'Sundar', 5000)]\n",
      "[('Mamatha', 'Ramanaujam', 1000), ('Reshma', 'R', 2000), ('Ananad', 'Deepak', 3000), ('Deepika', 'A', 4000), ('Kowsik', 'Sundar', 5000), ('Arjun', None, None)]\n"
     ]
    }
   ],
   "source": [
    "\n",
    "firstname=[\"Mamatha\", \"Reshma\" , \"Ananad\" , \"Deepika\" , \"Kowsik\",\"Arjun\"]\n",
    "lastname=[\"Ramanaujam\", \"R\" , \"Deepak\" , \"A\", \"Sundar\"]\n",
    "salary=[1000,2000,3000,4000,5000]\n",
    "zipped=zip(firstname,lastname,salary)\n",
    "print(list(zipped))\n",
    "\n",
    "\n",
    "\n",
    "from itertools import zip_longest\n",
    "zipped2=zip_longest(firstname,lastname,salary)\n",
    "print(list(zipped2))\n",
    "\n"
   ]
  },
  {
   "cell_type": "code",
   "execution_count": 124,
   "metadata": {},
   "outputs": [
    {
     "name": "stdout",
     "output_type": "stream",
     "text": [
      "[('Mamatha', 'Reshma', 'Ananad', 'Deepika', 'Kowsik'), ('Ramanaujam', 'R', 'Deepak', 'A', 'Sundar'), (1000, 2000, 3000, 4000, 5000)]\n"
     ]
    }
   ],
   "source": [
    "zipped=zip(firstname,lastname,salary)\n",
    "unzipped=zip(*zipped)\n",
    "print(list(unzipped))"
   ]
  },
  {
   "cell_type": "code",
   "execution_count": 83,
   "metadata": {},
   "outputs": [
    {
     "name": "stdout",
     "output_type": "stream",
     "text": [
      "[6, 6, 6, 6]\n"
     ]
    }
   ],
   "source": [
    "def num():\n",
    "    return [lambda x:i*x for i in range(4)]\n",
    "print([m(2)for m in num()])"
   ]
  },
  {
   "cell_type": "code",
   "execution_count": 7,
   "metadata": {},
   "outputs": [],
   "source": [
    "def num():\n",
    "    M=[lambda x:i*x for i in range(4)]\n",
    "    print(M)\n",
    "    print([m(2)for m in num()])"
   ]
  },
  {
   "cell_type": "code",
   "execution_count": 11,
   "metadata": {},
   "outputs": [
    {
     "name": "stdout",
     "output_type": "stream",
     "text": [
      "['H', 'e', 'l', 'l', 'o']\n"
     ]
    }
   ],
   "source": [
    "str1='          Hello                    '\n",
    "space=[' ']\n",
    "#str1 = [char for char in string]\n",
    "#str1=''.join((filter(lambda i:i not in space,str1))) \n",
    "str1=filter(lambda i:i not in space,str1)\n",
    "print(list(str1))"
   ]
  },
  {
   "cell_type": "code",
   "execution_count": 17,
   "metadata": {},
   "outputs": [
    {
     "name": "stdout",
     "output_type": "stream",
     "text": [
      "Hello\n"
     ]
    }
   ],
   "source": [
    "str1='          Hello                    '\n",
    "space=[' ']\n",
    "#str1 = [char for char in string]\n",
    "str1=''.join((filter(lambda i:i not in space,str1))) \n",
    "#str1=filter(lambda i:i not in space,str1)\n",
    "print(str1)\n",
    "#new_list = [s.replace(\" \",\"\") for s in str1]\n",
    "#new_list"
   ]
  },
  {
   "cell_type": "code",
   "execution_count": 110,
   "metadata": {},
   "outputs": [
    {
     "name": "stdout",
     "output_type": "stream",
     "text": [
      "Hello\n"
     ]
    }
   ],
   "source": [
    "#without inbuilt function\n",
    "\n",
    "str1='   Hello       '\n",
    "#to remove space t the beginning\n",
    "while str1[0]==\" \":\n",
    "    str1=str1[1:]\n",
    "#print(len(str1),list(str1),(str1))\n",
    "#to remove space at the end\n",
    "while str1[-1]==\" \":\n",
    "    str1=str1[:-1]\n",
    "print(str1)"
   ]
  },
  {
   "cell_type": "code",
   "execution_count": 57,
   "metadata": {},
   "outputs": [
    {
     "name": "stdout",
     "output_type": "stream",
     "text": [
      "   Hello    \n"
     ]
    }
   ],
   "source": [
    "str1='    Hello    '\n",
    "str1=str1[1:]\n",
    "print(str1)\n"
   ]
  },
  {
   "cell_type": "code",
   "execution_count": 99,
   "metadata": {},
   "outputs": [],
   "source": [
    "#Zip--> Function for parallel iterations , gets i'th element of each input and zip them into tuple\n",
    "#Uses length of shortest input by default (alt: itertools.zip_logest)\n",
    "#Returns 1 tuples if given only one input\n",
    "#Returns an empty iterstor with no input"
   ]
  },
  {
   "cell_type": "code",
   "execution_count": 126,
   "metadata": {},
   "outputs": [
    {
     "name": "stdout",
     "output_type": "stream",
     "text": [
      "<class 'int'>\n"
     ]
    }
   ],
   "source": [
    "mylist=[1, 2, 3, 4,5,6,7,8,9]\n",
    "\n",
    "greatest=reduce((lambda x,y:y if(y>x) else x),mylist)\n",
    "print(type(greatest))\n"
   ]
  },
  {
   "cell_type": "code",
   "execution_count": 129,
   "metadata": {},
   "outputs": [
    {
     "name": "stdout",
     "output_type": "stream",
     "text": [
      "type a num :10\n",
      "type a num :5\n",
      "type a num :24\n",
      "second largest number is : 10\n"
     ]
    }
   ],
   "source": [
    "A=int(input('type a num :'))\n",
    "B=int(input('type a num :'))\n",
    "C=int(input('type a num :'))\n",
    "if A>B>C:\n",
    "    print('second largest number is :', B)\n",
    "elif B>C>A:\n",
    "    print('second largest number is :',C)\n",
    "elif C>A>B:\n",
    "    print('second largest number is :',A)\n",
    "else:\n",
    "    print('All equal')"
   ]
  }
 ],
 "metadata": {
  "kernelspec": {
   "display_name": "Python 3",
   "language": "python",
   "name": "python3"
  },
  "language_info": {
   "codemirror_mode": {
    "name": "ipython",
    "version": 3
   },
   "file_extension": ".py",
   "mimetype": "text/x-python",
   "name": "python",
   "nbconvert_exporter": "python",
   "pygments_lexer": "ipython3",
   "version": "3.8.5"
  }
 },
 "nbformat": 4,
 "nbformat_minor": 4
}
