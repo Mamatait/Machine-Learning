{
 "cells": [
  {
   "cell_type": "code",
   "execution_count": null,
   "metadata": {},
   "outputs": [],
   "source": [
    "#Ask 2 numbers from users and store it in num1 and num2\n",
    "\n",
    "num1 = int(input(\"Enter number1: \"))\n",
    "num2 = int(input(\"Enter number2: \"))\n",
    "\n",
    "print(\"Choose the Arthematic operation /n 1.Addition 2.Subtracction 3.Multiplication 4.Division\")\n",
    "Operation = input(\"Choose the operation:\")\n",
    "\n",
    "Output = 0\n",
    "if Operation == '1':\n",
    "    Output =print(\"Addition output\", num1 + num2)\n",
    "elif Operation == '2':\n",
    "    Output = print(\"Subtraction output\",num1 - num2)\n",
    "elif Operation == '3':\n",
    "    Output = print(\"Multiplication output\",num1 * num2)\n",
    "elif Operation == '4':\n",
    "    Output = print(\"Division output\",num1 / num2)\n",
    "else:\n",
    "    print(\"Input character is not recognized!\")\n"
   ]
  },
  {
   "cell_type": "code",
   "execution_count": null,
   "metadata": {},
   "outputs": [],
   "source": [
    "#Ask 2 numbers from users and store it in num1 and num2\n",
    "\n",
    "num1 = int(input(\"Enter number1: \"))\n",
    "num2 = int(input(\"Enter number2: \"))\n",
    "\n",
    "print(\"Choose the Arthematic operation /n 1.Addition 2.Subtracction 3.Multiplication 4.Division\")\n",
    "Operation = input(\"Choose the operation:\")\n",
    "\n",
    "Output = 0\n",
    "if Operation == '1':\n",
    "    Output =print(\"Addition output\", num1 + num2)\n",
    "elif Operation == '2':\n",
    "    Output = print(\"Subtraction output\",num1 - num2)\n",
    "elif Operation == '3':\n",
    "    Output = print(\"Multiplication output\",num1 * num2)\n",
    "elif Operation == '4':\n",
    "    Output = print(\"Division output\",num1 / num2)\n",
    "else:\n",
    "    print(\"Input character is not recognized!\")\n"
   ]
  },
  {
   "cell_type": "code",
   "execution_count": null,
   "metadata": {},
   "outputs": [
    {
     "name": "stdout",
     "output_type": "stream",
     "text": [
      "Please select operation 1.Add 2.Sub 3.Mul 4.Div\n"
     ]
    }
   ],
   "source": [
    "\n",
    "  \n",
    "\n",
    "  \n",
    "print(\"Please select operation 1.Add 2.Sub 3.Mul 4.Div\") \n",
    "  \n",
    "  \n",
    "  \n",
    "select = input(\"Select operations form 1, 2, 3, 4 :\") \n",
    "  \n",
    "number1 = int(input(\"Enter first number: \")) \n",
    "number2 = int(input(\"Enter second number: \")) \n",
    "  \n",
    "if select == '1': \n",
    "    print(number1, \"+\", number2, \"=\", \n",
    "                    add(number1, number2)) \n",
    "  \n",
    "elif select == '2': \n",
    "    print(number1, \"-\", number2, \"=\", \n",
    "                    sub(number1, number2)) \n",
    "  \n",
    "elif select == '3': \n",
    "    print(number1, \"*\", number2, \"=\", \n",
    "                    mul(number1, number2)) \n",
    "  \n",
    "elif select == '4': \n",
    "    print(number1, \"/\", number2, \"=\", \n",
    "                    div(number1, number2)) \n",
    "else: \n",
    "    print(\"Invalid input\")\n",
    "    \n",
    "    \n",
    "    \n",
    "\n",
    "    \n",
    "    \n",
    "def add(num1, num2): \n",
    "    return num1 + num2 \n",
    "  \n",
    "def sub(num1, num2): \n",
    "    return num1 - num2 \n",
    "\n",
    "def mul(num1, num2): \n",
    "    return num1 * num2 \n",
    "\n",
    "def div(num1, num2): \n",
    "    return num1 / num2 "
   ]
  },
  {
   "cell_type": "code",
   "execution_count": 1,
   "metadata": {},
   "outputs": [
    {
     "ename": "SyntaxError",
     "evalue": "invalid syntax (<ipython-input-1-6e264d2275e5>, line 4)",
     "output_type": "error",
     "traceback": [
      "\u001b[1;36m  File \u001b[1;32m\"<ipython-input-1-6e264d2275e5>\"\u001b[1;36m, line \u001b[1;32m4\u001b[0m\n\u001b[1;33m    print [m(2) for m in multipliers()]\u001b[0m\n\u001b[1;37m                ^\u001b[0m\n\u001b[1;31mSyntaxError\u001b[0m\u001b[1;31m:\u001b[0m invalid syntax\n"
     ]
    }
   ],
   "source": [
    "def multipliers():\n",
    "  return [lambda x : i * x for i in range(4)]\n",
    "    \n",
    "print [m(2) for m in multipliers()]"
   ]
  },
  {
   "cell_type": "code",
   "execution_count": null,
   "metadata": {},
   "outputs": [],
   "source": []
  }
 ],
 "metadata": {
  "kernelspec": {
   "display_name": "Python 3",
   "language": "python",
   "name": "python3"
  },
  "language_info": {
   "codemirror_mode": {
    "name": "ipython",
    "version": 3
   },
   "file_extension": ".py",
   "mimetype": "text/x-python",
   "name": "python",
   "nbconvert_exporter": "python",
   "pygments_lexer": "ipython3",
   "version": "3.8.5"
  }
 },
 "nbformat": 4,
 "nbformat_minor": 4
}
